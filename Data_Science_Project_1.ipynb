{
 "cells": [
  {
   "cell_type": "code",
   "execution_count": 5,
   "id": "2d8dc66d",
   "metadata": {},
   "outputs": [
    {
     "name": "stdout",
     "output_type": "stream",
     "text": [
      "Dataset loaded successfully with 7043 rows and 21 columns.\n",
      "Missing values per column:\n",
      "Series([], dtype: int64)\n",
      "tenure: 0 outliers detected\n",
      "MonthlyCharges: 0 outliers detected\n",
      "TotalCharges: 90 outliers detected\n",
      "Training set: 5634 samples; Testing set: 1409 samples.\n"
     ]
    },
    {
     "name": "stderr",
     "output_type": "stream",
     "text": [
      "/var/folders/bw/wjmhykvs7hl9brmnzr4927cw0000gn/T/ipykernel_27387/3599770995.py:29: FutureWarning: Downcasting behavior in `replace` is deprecated and will be removed in a future version. To retain the old behavior, explicitly call `result.infer_objects(copy=False)`. To opt-in to the future behavior, set `pd.set_option('future.no_silent_downcasting', True)`\n",
      "  dataset[binary_columns] = dataset[binary_columns].replace({'Yes': 1, 'No': 0, 'Male': 0, 'Female': 1})\n"
     ]
    },
    {
     "data": {
      "application/vnd.jupyter.widget-view+json": {
       "model_id": "48fc5e76e4b64bc18ca5d866f94cce0b",
       "version_major": 2,
       "version_minor": 0
      },
      "text/plain": [
       "Summarize dataset:   0%|          | 0/5 [00:00<?, ?it/s]"
      ]
     },
     "metadata": {},
     "output_type": "display_data"
    },
    {
     "name": "stderr",
     "output_type": "stream",
     "text": [
      "/opt/anaconda3/lib/python3.12/site-packages/ydata_profiling/model/pandas/discretize_pandas.py:52: FutureWarning: Setting an item of incompatible dtype is deprecated and will raise in a future error of pandas. Value '[4 0 0 ... 4 9 0]' has dtype incompatible with int8, please explicitly cast to a compatible dtype first.\n",
      "  discretized_df.loc[:, column] = self._discretize_column(\n",
      "/opt/anaconda3/lib/python3.12/site-packages/ydata_profiling/model/pandas/discretize_pandas.py:52: FutureWarning: Setting an item of incompatible dtype is deprecated and will raise in a future error of pandas. Value '[0 0 0 ... 0 4 4]' has dtype incompatible with int8, please explicitly cast to a compatible dtype first.\n",
      "  discretized_df.loc[:, column] = self._discretize_column(\n",
      "/opt/anaconda3/lib/python3.12/site-packages/ydata_profiling/model/pandas/discretize_pandas.py:52: FutureWarning: Setting an item of incompatible dtype is deprecated and will raise in a future error of pandas. Value '[0 9 9 ... 9 0 9]' has dtype incompatible with int8, please explicitly cast to a compatible dtype first.\n",
      "  discretized_df.loc[:, column] = self._discretize_column(\n",
      "/opt/anaconda3/lib/python3.12/site-packages/ydata_profiling/model/pandas/discretize_pandas.py:52: FutureWarning: Setting an item of incompatible dtype is deprecated and will raise in a future error of pandas. Value '[9 0 9 ... 0 0 0]' has dtype incompatible with int8, please explicitly cast to a compatible dtype first.\n",
      "  discretized_df.loc[:, column] = self._discretize_column(\n",
      "/opt/anaconda3/lib/python3.12/site-packages/ydata_profiling/model/pandas/discretize_pandas.py:52: FutureWarning: Setting an item of incompatible dtype is deprecated and will raise in a future error of pandas. Value '[0 9 0 ... 0 0 9]' has dtype incompatible with int8, please explicitly cast to a compatible dtype first.\n",
      "  discretized_df.loc[:, column] = self._discretize_column(\n",
      "/opt/anaconda3/lib/python3.12/site-packages/ydata_profiling/model/pandas/discretize_pandas.py:52: FutureWarning: Setting an item of incompatible dtype is deprecated and will raise in a future error of pandas. Value '[0 0 0 ... 0 0 9]' has dtype incompatible with int8, please explicitly cast to a compatible dtype first.\n",
      "  discretized_df.loc[:, column] = self._discretize_column(\n",
      "/opt/anaconda3/lib/python3.12/site-packages/ydata_profiling/model/pandas/discretize_pandas.py:52: FutureWarning: Setting an item of incompatible dtype is deprecated and will raise in a future error of pandas. Value '[0 0 0 ... 0 0 9]' has dtype incompatible with int8, please explicitly cast to a compatible dtype first.\n",
      "  discretized_df.loc[:, column] = self._discretize_column(\n",
      "/opt/anaconda3/lib/python3.12/site-packages/ydata_profiling/model/pandas/discretize_pandas.py:52: FutureWarning: Setting an item of incompatible dtype is deprecated and will raise in a future error of pandas. Value '[0 0 0 ... 0 0 9]' has dtype incompatible with int8, please explicitly cast to a compatible dtype first.\n",
      "  discretized_df.loc[:, column] = self._discretize_column(\n",
      "/opt/anaconda3/lib/python3.12/site-packages/ydata_profiling/model/pandas/discretize_pandas.py:52: FutureWarning: Setting an item of incompatible dtype is deprecated and will raise in a future error of pandas. Value '[0 4 0 ... 0 0 9]' has dtype incompatible with int8, please explicitly cast to a compatible dtype first.\n",
      "  discretized_df.loc[:, column] = self._discretize_column(\n",
      "/opt/anaconda3/lib/python3.12/site-packages/ydata_profiling/model/pandas/discretize_pandas.py:52: FutureWarning: Setting an item of incompatible dtype is deprecated and will raise in a future error of pandas. Value '[6 9 9 ... 6 9 0]' has dtype incompatible with int8, please explicitly cast to a compatible dtype first.\n",
      "  discretized_df.loc[:, column] = self._discretize_column(\n"
     ]
    },
    {
     "data": {
      "application/vnd.jupyter.widget-view+json": {
       "model_id": "639f2579bc71439bb50a2b9e7cff8814",
       "version_major": 2,
       "version_minor": 0
      },
      "text/plain": [
       "Generate report structure:   0%|          | 0/1 [00:00<?, ?it/s]"
      ]
     },
     "metadata": {},
     "output_type": "display_data"
    },
    {
     "data": {
      "application/vnd.jupyter.widget-view+json": {
       "model_id": "06f68fd92aef42b5a7c746dff5dc550f",
       "version_major": 2,
       "version_minor": 0
      },
      "text/plain": [
       "Render HTML:   0%|          | 0/1 [00:00<?, ?it/s]"
      ]
     },
     "metadata": {},
     "output_type": "display_data"
    },
    {
     "data": {
      "application/vnd.jupyter.widget-view+json": {
       "model_id": "4f131ad277e64cffab8a4ea003cbee6a",
       "version_major": 2,
       "version_minor": 0
      },
      "text/plain": [
       "Export report to file:   0%|          | 0/1 [00:00<?, ?it/s]"
      ]
     },
     "metadata": {},
     "output_type": "display_data"
    },
    {
     "name": "stdout",
     "output_type": "stream",
     "text": [
      "Profile report generated and saved as 'dataset_profile_report.html'.\n"
     ]
    }
   ],
   "source": [
    "import numpy as np\n",
    "import pandas as pd\n",
    "import matplotlib.pyplot as plt\n",
    "import seaborn as sns\n",
    "from scipy import stats\n",
    "from sklearn.model_selection import train_test_split\n",
    "from ydata_profiling import ProfileReport\n",
    "\n",
    "\n",
    "dataset_path = \"/Users/bhavanahiremath/Downloads/telco-customer-churn.csv\"\n",
    "dataset = pd.read_csv(dataset_path)\n",
    "print(f\"Dataset loaded successfully with {dataset.shape[0]} rows and {dataset.shape[1]} columns.\")\n",
    "\n",
    "# Replace '?' with NaN and check for missing values\n",
    "dataset.replace('?', np.nan, inplace=True)\n",
    "missing_counts = dataset.isnull().sum()\n",
    "print(\"Missing values per column:\")\n",
    "print(missing_counts[missing_counts > 0])\n",
    "\n",
    "numeric_columns = ['tenure', 'MonthlyCharges', 'TotalCharges']\n",
    "for column in numeric_columns:\n",
    "    column_data = pd.to_numeric(dataset[column], errors='coerce').dropna()\n",
    "    z_scores = stats.zscore(column_data)\n",
    "    outliers = column_data[(z_scores > 2.5) | (z_scores < -2.5)]\n",
    "    print(f\"{column}: {len(outliers)} outliers detected\")\n",
    "\n",
    "# Convert binary columns to numeric\n",
    "binary_columns = ['gender', 'Partner', 'Dependents', 'PhoneService', 'PaperlessBilling', 'Churn']\n",
    "dataset[binary_columns] = dataset[binary_columns].replace({'Yes': 1, 'No': 0, 'Male': 0, 'Female': 1})\n",
    "\n",
    "# Convert multi-class categorical columns to numeric\n",
    "categorical_columns = ['InternetService', 'Contract', 'PaymentMethod', 'MultipleLines',\n",
    "                       'OnlineSecurity', 'OnlineBackup', 'DeviceProtection', 'TechSupport',\n",
    "                       'StreamingTV', 'StreamingMovies']\n",
    "dataset[categorical_columns] = dataset[categorical_columns].apply(lambda col: col.astype('category').cat.codes)\n",
    "\n",
    "# Define features and target variable\n",
    "X = dataset.drop(columns=['customerID', 'Churn'])\n",
    "y = dataset['Churn']\n",
    "\n",
    "# Train-test split\n",
    "X_train, X_test, y_train, y_test = train_test_split(X, y, test_size=0.2, random_state=42, stratify=y)\n",
    "print(f\"Training set: {X_train.shape[0]} samples; Testing set: {X_test.shape[0]} samples.\")\n",
    "\n",
    "# Generate a profile report\n",
    "profile = ProfileReport(dataset, title=\"Telco Customer Churn - Pandas Profiling Report\", explorative=True)\n",
    "profile.to_file(\"dataset_profile_report.html\")\n",
    "print(\"Profile report generated and saved as 'dataset_profile_report.html'.\")"
   ]
  }
 ],
 "metadata": {
  "kernelspec": {
   "display_name": "Python 3 (ipykernel)",
   "language": "python",
   "name": "python3"
  },
  "language_info": {
   "codemirror_mode": {
    "name": "ipython",
    "version": 3
   },
   "file_extension": ".py",
   "mimetype": "text/x-python",
   "name": "python",
   "nbconvert_exporter": "python",
   "pygments_lexer": "ipython3",
   "version": "3.12.7"
  }
 },
 "nbformat": 4,
 "nbformat_minor": 5
}
